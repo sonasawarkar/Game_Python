{
 "cells": [
  {
   "cell_type": "code",
   "execution_count": 5,
   "id": "8420c7a8",
   "metadata": {},
   "outputs": [
    {
     "name": "stdout",
     "output_type": "stream",
     "text": [
      "Enter the length of a password:25\n",
      "hdiywzzxyxzojoloxqdlhjnrq\n"
     ]
    }
   ],
   "source": [
    "import string\n",
    "import random\n",
    "names=['a','b','c','d','e','f','g','h','i','j','k','l','m','n','o','p','q','r','s','t','u','v','w','x','y','z']\n",
    "len1=int(input(\"Enter the length of a password:\"))\n",
    "random.shuffle(names)\n",
    "emptylist=[]\n",
    "for x in range(len1):\n",
    "    emptylist.append(random.choice(names))\n",
    "random.shuffle(emptylist)\n",
    "print(\"\".join(emptylist))"
   ]
  }
 ],
 "metadata": {
  "kernelspec": {
   "display_name": "Python 3 (ipykernel)",
   "language": "python",
   "name": "python3"
  },
  "language_info": {
   "codemirror_mode": {
    "name": "ipython",
    "version": 3
   },
   "file_extension": ".py",
   "mimetype": "text/x-python",
   "name": "python",
   "nbconvert_exporter": "python",
   "pygments_lexer": "ipython3",
   "version": "3.9.7"
  }
 },
 "nbformat": 4,
 "nbformat_minor": 5
}
