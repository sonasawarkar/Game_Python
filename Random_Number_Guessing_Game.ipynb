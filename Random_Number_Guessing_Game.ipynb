{
 "cells": [
  {
   "cell_type": "markdown",
   "id": "e590b385",
   "metadata": {},
   "source": [
    "### How to create a Random Number Guessing Game Using Random Module in Python"
   ]
  },
  {
   "cell_type": "code",
   "execution_count": 13,
   "id": "ef710b1c",
   "metadata": {},
   "outputs": [
    {
     "name": "stdout",
     "output_type": "stream",
     "text": [
      "Enter your Number:78\n",
      "Computer Number 80\n",
      "Your guess number is too low\n"
     ]
    }
   ],
   "source": [
    "import random\n",
    "\n",
    "C_number=random.randrange(1,101)\n",
    "userInput=int(input(\"Enter your Number:\"))\n",
    "\n",
    "if userInput>C_number:\n",
    "    print(\"Computer Number\",C_number)\n",
    "    print(\"Your guess number is too high\")\n",
    "    \n",
    "elif C_number>userInput:\n",
    "    print(\"Computer Number\",C_number)\n",
    "    print(\"Your guess number is too low\")\n",
    "    \n",
    "else:\n",
    "    print(\"Computer Number\",C_number)\n",
    "    print(\"Your guess number is equal\")\n",
    "    "
   ]
  }
 ],
 "metadata": {
  "kernelspec": {
   "display_name": "Python 3 (ipykernel)",
   "language": "python",
   "name": "python3"
  },
  "language_info": {
   "codemirror_mode": {
    "name": "ipython",
    "version": 3
   },
   "file_extension": ".py",
   "mimetype": "text/x-python",
   "name": "python",
   "nbconvert_exporter": "python",
   "pygments_lexer": "ipython3",
   "version": "3.9.12"
  }
 },
 "nbformat": 4,
 "nbformat_minor": 5
}
